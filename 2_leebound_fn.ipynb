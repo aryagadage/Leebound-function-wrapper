{
 "cells": [
  {
   "cell_type": "code",
   "execution_count": 8,
   "id": "7b2ffc0f",
   "metadata": {},
   "outputs": [
    {
     "name": "stdout",
     "output_type": "stream",
     "text": [
      "Stata setup complete.\n"
     ]
    }
   ],
   "source": [
    "import stata_setup\n",
    "import pandas as pd\n",
    "import numpy as np\n",
    "import tempfile\n",
    "from scipy.stats import norm\n",
    "import os\n",
    "#stata_setup.config(\"C:/Program Files/StataNow19/\", \"be\")\n",
    "stata_setup.config(\"/Applications/StataNow\", \"mp\")\n",
    "print(\"Stata setup complete.\")\n",
    "from pystata import stata"
   ]
  },
  {
   "cell_type": "code",
   "execution_count": 9,
   "id": "9b64690e",
   "metadata": {},
   "outputs": [],
   "source": [
    "\n",
    "def run_leebounds(df):\n",
    "    # Ensure correct types\n",
    "    df['Y'] = df['Y'].astype(float)\n",
    "    df['D'] = df['D'].astype(int)\n",
    "\n",
    "    # Transfer the dataframe to Stata (in memory)\n",
    "    stata.pdataframe_to_data(df, force=True)\n",
    "\n",
    "    # Diagnostic: Check missing Y\n",
    "    stata.run('count if missing(Y)', quietly=True)\n",
    "\n",
    "    # Run Lee bounds\n",
    "    stata.run('leebounds Y D')\n"
   ]
  },
  {
   "cell_type": "code",
   "execution_count": 10,
   "id": "bc554fce",
   "metadata": {},
   "outputs": [
    {
     "name": "stdout",
     "output_type": "stream",
     "text": [
      "\n",
      "Lee (2009) treatment effect bounds\n",
      "\n",
      "Number of obs.                     =   1000\n",
      "Number of selected obs.            =   804\n",
      "Trimming porportion                =   0.2027\n",
      "\n",
      "------------------------------------------------------------------------------\n",
      "           Y | Coefficient  Std. err.      z    P>|z|     [95% conf. interval]\n",
      "-------------+----------------------------------------------------------------\n",
      "D            |\n",
      "       lower |    1.67745    .079684    21.05   0.000     1.521272    1.833628\n",
      "       upper |   2.348952   .0795541    29.53   0.000     2.193029    2.504876\n",
      "------------------------------------------------------------------------------\n"
     ]
    }
   ],
   "source": [
    "# Create treatment\n",
    "D = np.random.binomial(1, 0.5, 1000)\n",
    "\n",
    "# Simulate outcome\n",
    "Y = 5 + 2 * D + np.random.normal(0, 1, 1000)\n",
    "\n",
    "# Attrition: treated group has more dropouts\n",
    "p_s = np.where(D == 1, 0.7, 0.9)\n",
    "S = np.random.binomial(1, p_s)\n",
    "\n",
    "# Apply attrition: make Y missing if S==0\n",
    "Y_observed = np.where(S == 1, Y, np.nan)\n",
    "\n",
    "# Create DataFrame\n",
    "df = pd.DataFrame({'Y': Y_observed, 'D': D, 'S': S})\n",
    "\n",
    "# Run Lee bounds\n",
    "run_leebounds(df)\n"
   ]
  },
  {
   "cell_type": "code",
   "execution_count": 11,
   "id": "2945ea0b",
   "metadata": {},
   "outputs": [
    {
     "name": "stdout",
     "output_type": "stream",
     "text": [
      "S\n",
      "1    804\n",
      "0    196\n",
      "Name: count, dtype: int64\n"
     ]
    }
   ],
   "source": [
    "print(df['S'].value_counts())\n"
   ]
  }
 ],
 "metadata": {
  "kernelspec": {
   "display_name": "Python 3",
   "language": "python",
   "name": "python3"
  },
  "language_info": {
   "codemirror_mode": {
    "name": "ipython",
    "version": 3
   },
   "file_extension": ".py",
   "mimetype": "text/x-python",
   "name": "python",
   "nbconvert_exporter": "python",
   "pygments_lexer": "ipython3",
   "version": "3.13.5"
  }
 },
 "nbformat": 4,
 "nbformat_minor": 5
}
